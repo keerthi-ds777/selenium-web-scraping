{
 "cells": [
  {
   "cell_type": "code",
   "execution_count": 2,
   "metadata": {},
   "outputs": [
    {
     "data": {
      "text/plain": [
       "\"df_buses_1=pd.read_csv('df_buses_1.csv')\\ndf_buses_2=pd.read_csv('df_buses_2.csv')\\ndf_buses_3=pd.read_csv('df_buses_3.csv')\\ndf_buses_4=pd.read_csv('df_buses_4.csv')\\ndf_buses_5=pd.read_csv('df_buses_5.csv')\\ndf_buses_6=pd.read_csv('df_buses_6.csv')\\ndf_buses_7=pd.read_csv('df_buses_7.csv')\\ndf_buses_8=pd.read_csv('df_buses_8.csv')\\ndf_buses_9=pd.read_csv('df_buses_9.csv')\\ndf_buses_10=pd.read_csv('df_buses_10.csv')\\n                    \\nfinal_df= pd.concat([df_buses_1,df_buses_2,df_buses_3,df_buses_4,df_buses_5,\\n                     df_buses_6,df_buses_7,df_buses_8,df_buses_9,df_buses_10],index=True)\""
      ]
     },
     "execution_count": 2,
     "metadata": {},
     "output_type": "execute_result"
    }
   ],
   "source": [
    "import pandas as pd \n",
    "import mysql.connector\n",
    "import numpy as np\n",
    "\n",
    "'''df_buses_1=pd.read_csv('df_buses_1.csv')\n",
    "df_buses_2=pd.read_csv('df_buses_2.csv')\n",
    "df_buses_3=pd.read_csv('df_buses_3.csv')\n",
    "df_buses_4=pd.read_csv('df_buses_4.csv')\n",
    "df_buses_5=pd.read_csv('df_buses_5.csv')\n",
    "df_buses_6=pd.read_csv('df_buses_6.csv')\n",
    "df_buses_7=pd.read_csv('df_buses_7.csv')\n",
    "df_buses_8=pd.read_csv('df_buses_8.csv')\n",
    "df_buses_9=pd.read_csv('df_buses_9.csv')\n",
    "df_buses_10=pd.read_csv('df_buses_10.csv')\n",
    "                    \n",
    "final_df= pd.concat([df_buses_1,df_buses_2,df_buses_3,df_buses_4,df_buses_5,\n",
    "                     df_buses_6,df_buses_7,df_buses_8,df_buses_9,df_buses_10],index=True)'''\n"
   ]
  },
  {
   "cell_type": "markdown",
   "metadata": {},
   "source": [
    "Data cleaning"
   ]
  },
  {
   "cell_type": "code",
   "execution_count": null,
   "metadata": {},
   "outputs": [],
   "source": [
    "final_df['Price']=final_df['Price'].str.replace('INR','')\n",
    "\n",
    "final_df['Price']=final_df['Price'].astype(float)\n",
    "\n",
    "final_df['Price'].fillna(0)"
   ]
  },
  {
   "cell_type": "code",
   "execution_count": null,
   "metadata": {},
   "outputs": [],
   "source": [
    "final_df['Rating']=final_df['Rating'].str.replace('new','')\n",
    "final_df['Rating']=final_df['Rating'].str.striP()\n",
    "final_df['Rating']=final_df['Rating'].str.split.str[0]\n",
    "final_df['Rating']=pd.to_numeric(final_df['Rating'],errors='coerce')\n",
    "final_df['Rating'].fillna(0)\n"
   ]
  },
  {
   "cell_type": "code",
   "execution_count": null,
   "metadata": {},
   "outputs": [],
   "source": [
    "final_df=final_df[final_df['Price']<=7000]\n",
    "\n",
    "\n",
    "final_df=final_df.replace(np.nan:None)\n",
    "\n",
    "path =\"c:\\Users\\loges\\Desktop\\python\\sample projects\\redbus\\final_bus_details.csv\"\n"
   ]
  },
  {
   "cell_type": "markdown",
   "metadata": {
    "slideshow": {
     "slide_type": "fragment"
    }
   },
   "source": [
    "Create a mysql database"
   ]
  },
  {
   "cell_type": "code",
   "execution_count": null,
   "metadata": {},
   "outputs": [],
   "source": [
    "conn=mysql.connector.connect(host='localhost',username='root',password='1234',database='redbus')\n",
    "cursor=conn.cursor()\n",
    "cursor.execute(''' create table if nor exists bus_details(\n",
    "               ID INT AUTO_INCREMENT PRIMARY KEY,\n",
    "               Bus_Name VARCHAR(255) NOT NULL,\n",
    "               Bus_Type varchar(255) NOT NULL,\n",
    "               Start_time VARCHAR(255) NOT NULL,\n",
    "               End_Time VARCHAR NOT NULL),\n",
    "               Total_Duration varchar(255) NOT NULL\n",
    "               Price float null,\n",
    "               Seats_available varchar(255) NOT NULL,\n",
    "               Rating float null ,\n",
    "               Route_link(255) not null,\n",
    "               Route_Name VARCHAR(255) NOT NULL)''')\n",
    "\n"
   ]
  },
  {
   "cell_type": "code",
   "execution_count": null,
   "metadata": {},
   "outputs": [],
   "source": [
    "insert_query = '''INSERT INTO bus_details (Bus_name,Bus_type,Start-time,End_time,Total_Duration,\n",
    "               Price,Seats_available,Rating,Route_link,Route_name)\n",
    "               VALUES(%s,%s,%s,%s,%s,%s,%s,%s,)'''\n",
    "\n",
    "data = final_df.values.tolist()\n",
    "cursor.executemany(insert_query, data)\n",
    "conn.commit()\n",
    "print(f\"{cursor.rowcount} rows inserted successfully.\")"
   ]
  }
 ],
 "metadata": {
  "kernelspec": {
   "display_name": "redb",
   "language": "python",
   "name": "python3"
  },
  "language_info": {
   "codemirror_mode": {
    "name": "ipython",
    "version": 3
   },
   "file_extension": ".py",
   "mimetype": "text/x-python",
   "name": "python",
   "nbconvert_exporter": "python",
   "pygments_lexer": "ipython3",
   "version": "3.12.2"
  }
 },
 "nbformat": 4,
 "nbformat_minor": 2
}
